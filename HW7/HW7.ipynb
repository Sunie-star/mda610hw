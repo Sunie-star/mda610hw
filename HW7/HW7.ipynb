{
 "cells": [
  {
   "cell_type": "code",
   "execution_count": 3,
   "metadata": {},
   "outputs": [
    {
     "data": {
      "text/plain": [
       "{'mean': 14.864285714285714,\n",
       " 'variance': 361.70515306122445,\n",
       " 'std': 19.018547606513607}"
      ]
     },
     "execution_count": 3,
     "metadata": {},
     "output_type": "execute_result"
    }
   ],
   "source": [
    "def M(x):\n",
    "    import numpy as np\n",
    "    A={}\n",
    "    B=['mean','variance','std']\n",
    "    d = np.mean(x)\n",
    "    e = np.var(x)\n",
    "    f = np.std(x)\n",
    "    C=[d,e,f]\n",
    "    for i in range(len(B)):\n",
    "        A[B[i]]=C[i]\n",
    "    return A\n",
    "x = [7,9,15,56,8.6,12.9,7.6,65,5,3,4,5,8,2]\n",
    "M(x)"
   ]
  },
  {
   "cell_type": "code",
   "execution_count": 1,
   "metadata": {},
   "outputs": [
    {
     "name": "stdout",
     "output_type": "stream",
     "text": [
      "Please continue entering numbers or type \"Stop\" to quit 23\n",
      "Please continue entering numbers or type \"Stop\" to quit 56\n",
      "Please continue entering numbers or type \"Stop\" to quit 38\n",
      "Please continue entering numbers or type \"Stop\" to quit Stop\n",
      "Mean is: 39.0\n"
     ]
    }
   ],
   "source": [
    "import numpy as np\n",
    "try:\n",
    "    g = []\n",
    "    \n",
    "    while True:\n",
    "        g.append(float(input('Please continue entering numbers or type \"Stop\" to quit ')))\n",
    "except:\n",
    "    print('Mean is: '+str(np.mean(g)))"
   ]
  },
  {
   "cell_type": "code",
   "execution_count": null,
   "metadata": {},
   "outputs": [],
   "source": []
  },
  {
   "cell_type": "code",
   "execution_count": null,
   "metadata": {},
   "outputs": [],
   "source": []
  },
  {
   "cell_type": "code",
   "execution_count": null,
   "metadata": {},
   "outputs": [],
   "source": []
  },
  {
   "cell_type": "code",
   "execution_count": null,
   "metadata": {},
   "outputs": [],
   "source": []
  },
  {
   "cell_type": "code",
   "execution_count": null,
   "metadata": {},
   "outputs": [],
   "source": []
  }
 ],
 "metadata": {
  "kernelspec": {
   "display_name": "Python 3",
   "language": "python",
   "name": "python3"
  },
  "language_info": {
   "codemirror_mode": {
    "name": "ipython",
    "version": 3
   },
   "file_extension": ".py",
   "mimetype": "text/x-python",
   "name": "python",
   "nbconvert_exporter": "python",
   "pygments_lexer": "ipython3",
   "version": "3.7.3"
  }
 },
 "nbformat": 4,
 "nbformat_minor": 2
}
