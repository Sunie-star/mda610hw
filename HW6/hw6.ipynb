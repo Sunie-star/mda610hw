{
 "cells": [
  {
   "cell_type": "code",
   "execution_count": 1,
   "metadata": {},
   "outputs": [
    {
     "data": {
      "text/plain": [
       "{'B': 1,\n",
       " 'e': 4,\n",
       " 'w': 2,\n",
       " 'h': 2,\n",
       " 'o': 3,\n",
       " 'y': 3,\n",
       " 'u': 2,\n",
       " 'a': 4,\n",
       " 'r': 1,\n",
       " 'n': 1,\n",
       " 'd': 1,\n",
       " 's': 1,\n",
       " 't': 1,\n",
       " 'f': 1,\n",
       " 'l': 1}"
      ]
     },
     "execution_count": 1,
     "metadata": {},
     "output_type": "execute_result"
    }
   ],
   "source": [
    "a = \"Bewhoyouareandsaywhatyoufeel\"\n",
    "def fecq(x):\n",
    "    awn = {}\n",
    "    for i in x:\n",
    "        if i not in awn:\n",
    "            awn[i] = 1\n",
    "        else:\n",
    "            awn[i] +=1\n",
    "    return awn\n",
    "        \n",
    "fecq(a)\n",
    "# Source from PythonTutorial "
   ]
  },
  {
   "cell_type": "code",
   "execution_count": 4,
   "metadata": {},
   "outputs": [
    {
     "name": "stdout",
     "output_type": "stream",
     "text": [
      "min is: -15 \n",
      "max is: 453\n"
     ]
    }
   ],
   "source": [
    "def min_and_max(x):\n",
    "    m = max(x)\n",
    "    n = min(x)\n",
    "    print('min is: '+str(n),'\\nmax is: '+str(m))\n",
    "    \n",
    "a = [1,3,5,1,453,-15] \n",
    "    \n",
    "min_and_max(a)"
   ]
  },
  {
   "cell_type": "code",
   "execution_count": 10,
   "metadata": {},
   "outputs": [
    {
     "name": "stdout",
     "output_type": "stream",
     "text": [
      "to\n",
      "do\n"
     ]
    }
   ],
   "source": [
    "b = [\"how\",\"to\",\"do\",\"in\",\"java\"]\n",
    " \n",
    "print (max(b))\n",
    "print (min(b))"
   ]
  },
  {
   "cell_type": "code",
   "execution_count": 11,
   "metadata": {},
   "outputs": [
    {
     "name": "stdout",
     "output_type": "stream",
     "text": [
      "49.2\n",
      "12.5\n"
     ]
    }
   ],
   "source": [
    "b = [12.5,13.6,17.9,49.2,21.3]\n",
    " \n",
    "print (max(b))\n",
    "print (min(b))"
   ]
  },
  {
   "cell_type": "code",
   "execution_count": 23,
   "metadata": {},
   "outputs": [
    {
     "name": "stdout",
     "output_type": "stream",
     "text": [
      "0     1\n",
      "1     6\n",
      "2     8\n",
      "3    14\n",
      "dtype: int64\n"
     ]
    }
   ],
   "source": [
    "def cum_sum(x):\n",
    "    for i in range(len(x)):\n",
    "        if i == 0:\n",
    "            x[i]=x[i]\n",
    "        else:\n",
    "            x[i]=x[i-1]+x[i]\n",
    "    return x\n",
    "\n",
    "a = [1,5,8,16,9.6,15,7.8]\n",
    "cum_sum(a)\n",
    "    "
   ]
  },
  {
   "cell_type": "code",
   "execution_count": 5,
   "metadata": {},
   "outputs": [
    {
     "data": {
      "text/plain": [
       "86"
      ]
     },
     "execution_count": 5,
     "metadata": {},
     "output_type": "execute_result"
    }
   ],
   "source": [
    "def dot(x,y):\n",
    "    if len(x) == len(y):\n",
    "        sum = 0\n",
    "        for i in range(len(x)):\n",
    "            n = x[i]*y[i]\n",
    "            sum += n\n",
    "        return sum\n",
    "            \n",
    "    else:\n",
    "        print('Error: Two list length are not equal')\n",
    "\n",
    "x = [3,9,3,7]\n",
    "y = [6,3,9,2]\n",
    "dot(x,y)"
   ]
  },
  {
   "cell_type": "markdown",
   "metadata": {},
   "source": [
    "Source:\n",
    "https://www.geeksforgeeks.org/python-pandas-series-cumsum-to-find-cumulative-sum-of-a-series/"
   ]
  },
  {
   "cell_type": "code",
   "execution_count": null,
   "metadata": {},
   "outputs": [],
   "source": []
  }
 ],
 "metadata": {
  "kernelspec": {
   "display_name": "Python 3",
   "language": "python",
   "name": "python3"
  },
  "language_info": {
   "codemirror_mode": {
    "name": "ipython",
    "version": 3
   },
   "file_extension": ".py",
   "mimetype": "text/x-python",
   "name": "python",
   "nbconvert_exporter": "python",
   "pygments_lexer": "ipython3",
   "version": "3.7.3"
  }
 },
 "nbformat": 4,
 "nbformat_minor": 2
}
