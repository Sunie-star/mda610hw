{
 "cells": [
  {
   "cell_type": "code",
   "execution_count": 3,
   "metadata": {},
   "outputs": [
    {
     "name": "stdout",
     "output_type": "stream",
     "text": [
      "Please input  a numeric grade : 89\n",
      "B\n"
     ]
    }
   ],
   "source": [
    "s=float(input (\"Please input  a numeric grade : \"))\n",
    "\n",
    "if s >= 90 and s <= 100: \n",
    "    print(\"A\")\n",
    "elif s >= 80 and s <= 89:\n",
    "    print(\"B\")\n",
    "elif s >= 70 and s <= 79:\n",
    "    print(\"C\")\n",
    "elif s >= 60 and s <= 69:\n",
    "    print(\"D\")\n",
    "else:\n",
    "    print(\"F\")"
   ]
  },
  {
   "cell_type": "code",
   "execution_count": 4,
   "metadata": {},
   "outputs": [
    {
     "name": "stdout",
     "output_type": "stream",
     "text": [
      "{5}\n",
      "no common elements\n"
     ]
    }
   ],
   "source": [
    "def common_member(a, b): \n",
    "      \n",
    "    a_set = set(a) \n",
    "    b_set = set(b) \n",
    "      \n",
    "    # check length  \n",
    "    if len(a_set.intersection(b_set)) > 0: \n",
    "        return(a_set.intersection(b_set))   \n",
    "    else: \n",
    "        return(\"no common elements\") \n",
    "      \n",
    "   \n",
    "a = [1, 2, 3, 4, 5] \n",
    "b = [5, 6, 7, 8, 9] \n",
    "print(common_member(a, b)) \n",
    "   \n",
    "    \n",
    "a =[1, 2, 3, 4, 5] \n",
    "b =[6, 7, 8, 9] \n",
    "print(common_member(a, b))"
   ]
  },
  {
   "cell_type": "code",
   "execution_count": 28,
   "metadata": {},
   "outputs": [
    {
     "name": "stdout",
     "output_type": "stream",
     "text": [
      "1 2 3 4 5 \n",
      "2 4 6 8 10 \n",
      "3 6 9 12 15 \n",
      "4 8 12 16 20 \n"
     ]
    }
   ],
   "source": [
    "a = [[1, 2, 3, 4, 5], [2, 4, 6, 8, 10], [3, 6, 9, 12, 15], [4, 8, 12, 16, 20]]\n",
    "for i in range(len(a)):\n",
    "    for j in range(len(a[i])):\n",
    "        print(a[i][j], end=' ')\n",
    "    print()"
   ]
  },
  {
   "cell_type": "code",
   "execution_count": 29,
   "metadata": {},
   "outputs": [
    {
     "name": "stdout",
     "output_type": "stream",
     "text": [
      "200,202,204,206,208,220,222,224,226,228,240,242,244,246,248,260,262,264,266,268,280,282,284,286,288,400\n"
     ]
    }
   ],
   "source": [
    "items = []\n",
    "for i in range(100, 401):\n",
    "    s = str(i)\n",
    "    if (int(s[0])%2==0) and (int(s[1])%2==0) and (int(s[2])%2==0):\n",
    "        items.append(s)\n",
    "print( \",\".join(items))"
   ]
  },
  {
   "cell_type": "code",
   "execution_count": 32,
   "metadata": {},
   "outputs": [
    {
     "name": "stdout",
     "output_type": "stream",
     "text": [
      "{'a': 250, 'b': 320, 'd': 10, 'e': 60}\n"
     ]
    }
   ],
   "source": [
    "adict = {'a': 200, 'b': 300, 'c': 400}\n",
    "bdict = {'a': 50, 'b': 20, 'd': 10, 'e': 60}\n",
    "\n",
    "for key in bdict: \n",
    "    if key in adict: \n",
    "        bdict[key] = bdict[key] + adict[key] \n",
    "    else: \n",
    "        pass\n",
    "\n",
    "print(bdict) "
   ]
  },
  {
   "cell_type": "code",
   "execution_count": null,
   "metadata": {},
   "outputs": [],
   "source": []
  }
 ],
 "metadata": {
  "kernelspec": {
   "display_name": "Python 3",
   "language": "python",
   "name": "python3"
  },
  "language_info": {
   "codemirror_mode": {
    "name": "ipython",
    "version": 3
   },
   "file_extension": ".py",
   "mimetype": "text/x-python",
   "name": "python",
   "nbconvert_exporter": "python",
   "pygments_lexer": "ipython3",
   "version": "3.7.3"
  }
 },
 "nbformat": 4,
 "nbformat_minor": 2
}
