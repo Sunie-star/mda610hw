{
 "cells": [
  {
   "cell_type": "code",
   "execution_count": 24,
   "metadata": {
    "scrolled": false
   },
   "outputs": [
    {
     "name": "stdout",
     "output_type": "stream",
     "text": [
      "Please input a string: abc\n",
      "The original string  is : abc\n",
      "The reversed string is : cba\n"
     ]
    }
   ],
   "source": [
    "\n",
    "\n",
    "s =input(\"Please input a string: \")\n",
    "  \n",
    "print (\"The original string  is : \",end=\"\") \n",
    "print (s) \n",
    "  \n",
    "print (\"The reversed string is : \",end=\"\") \n",
    "print (reverse(s)) \n",
    "\n",
    "    "
   ]
  },
  {
   "cell_type": "code",
   "execution_count": 26,
   "metadata": {},
   "outputs": [
    {
     "name": "stdout",
     "output_type": "stream",
     "text": [
      "Please input a input a number: 4\n",
      "[1, 2, 3, '4']\n"
     ]
    }
   ],
   "source": [
    "s =input(\"Please input a input a number: \")\n",
    "u = [1, 2, 3]\n",
    "u.append(s)  \n",
    "print(u)"
   ]
  },
  {
   "cell_type": "code",
   "execution_count": 44,
   "metadata": {},
   "outputs": [
    {
     "name": "stdout",
     "output_type": "stream",
     "text": [
      "Input the radius of the circle : 2\n",
      "The area of the circle with radius 2.0 is: 12.566370614359172\n"
     ]
    }
   ],
   "source": [
    "from math import pi\n",
    "r = float(input (\"Please input the radius of the circle : \"))\n",
    "print (\"The area of the circle with radius \" + str(r) + \" is: \" + str(pi * r**2))"
   ]
  },
  {
   "cell_type": "code",
   "execution_count": 47,
   "metadata": {},
   "outputs": [
    {
     "name": "stdout",
     "output_type": "stream",
     "text": [
      "Please  input a number : 3\n",
      "Natural logarithm of3.0is: 1.0986122886681098\n",
      "Common logarithm of3.0is: 0.47712125471966244\n"
     ]
    }
   ],
   "source": [
    "import math\n",
    "x=float(input (\"Please  input a number : \"))\n",
    "y=math.log(x)\n",
    "k=math.log(x,10)\n",
    "print (\"Natural logarithm of\" + str(x) + \"is: \" + str(y))\n",
    "print (\"Common logarithm of\" + str(x) + \"is: \" + str(k))"
   ]
  },
  {
   "cell_type": "code",
   "execution_count": null,
   "metadata": {},
   "outputs": [],
   "source": []
  }
 ],
 "metadata": {
  "kernelspec": {
   "display_name": "Python 3",
   "language": "python",
   "name": "python3"
  },
  "language_info": {
   "codemirror_mode": {
    "name": "ipython",
    "version": 3
   },
   "file_extension": ".py",
   "mimetype": "text/x-python",
   "name": "python",
   "nbconvert_exporter": "python",
   "pygments_lexer": "ipython3",
   "version": "3.7.3"
  }
 },
 "nbformat": 4,
 "nbformat_minor": 2
}
